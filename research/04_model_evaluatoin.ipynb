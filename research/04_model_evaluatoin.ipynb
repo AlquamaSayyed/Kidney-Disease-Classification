{
 "cells": [
  {
   "cell_type": "code",
   "execution_count": 1,
   "id": "4edb9317-0535-4ca1-998f-35066750fdd3",
   "metadata": {},
   "outputs": [],
   "source": [
    "import os"
   ]
  },
  {
   "cell_type": "code",
   "execution_count": 2,
   "id": "bc235b4f-eb07-4e29-ac36-6396d1e5d67b",
   "metadata": {},
   "outputs": [],
   "source": [
    "os.chdir(\"../\")"
   ]
  },
  {
   "cell_type": "code",
   "execution_count": 3,
   "id": "b01e589e-bc56-4352-8e50-79031ab26f86",
   "metadata": {},
   "outputs": [
    {
     "data": {
      "text/plain": [
       "'F:\\\\Study\\\\Deep_learning_Project\\\\Kidney-Disease-Classification'"
      ]
     },
     "execution_count": 3,
     "metadata": {},
     "output_type": "execute_result"
    }
   ],
   "source": [
    "%pwd"
   ]
  },
  {
   "cell_type": "code",
   "execution_count": 4,
   "id": "9dd0f28b-1967-429e-ab85-985b4a73d6f7",
   "metadata": {},
   "outputs": [
    {
     "name": "stdout",
     "output_type": "stream",
     "text": [
      "[PhysicalDevice(name='/physical_device:CPU:0', device_type='CPU')]\n"
     ]
    }
   ],
   "source": [
    "import tensorflow as tf\n",
    "print(tf.config.list_physical_devices())"
   ]
  },
  {
   "cell_type": "code",
   "execution_count": 5,
   "id": "73b26db6-47fc-4a09-80c9-7f95229dd9f0",
   "metadata": {},
   "outputs": [],
   "source": [
    "from src.cnnClassifier.utils.common import read_ymal\n",
    "from pathlib import Path"
   ]
  },
  {
   "cell_type": "code",
   "execution_count": 6,
   "id": "ad383a98-8566-49ff-9870-807233e7cb19",
   "metadata": {},
   "outputs": [
    {
     "name": "stdout",
     "output_type": "stream",
     "text": [
      "[2024-03-18 12:54:41,577: INFO: common: yaml file: mlflow.yaml loaded successfully]\n"
     ]
    }
   ],
   "source": [
    "mlflow_details = read_ymal(Path(\"mlflow.yaml\"))"
   ]
  },
  {
   "cell_type": "code",
   "execution_count": 7,
   "id": "9830f2a6-5b50-4221-a851-65994692fefe",
   "metadata": {},
   "outputs": [],
   "source": [
    "import tensorflow as tf"
   ]
  },
  {
   "cell_type": "code",
   "execution_count": 8,
   "id": "a3b28e9d-bb57-4499-9a58-9054da79dfc9",
   "metadata": {},
   "outputs": [],
   "source": [
    "model = tf.keras.models.load_model(\"artifacts/training/model.h5\")"
   ]
  },
  {
   "cell_type": "code",
   "execution_count": 9,
   "id": "716242a6-0f46-47f5-b806-582ff1476765",
   "metadata": {},
   "outputs": [],
   "source": [
    "#Entity\n",
    "from dataclasses import dataclass\n",
    "from pathlib import Path\n",
    "\n",
    "@dataclass(frozen=True)\n",
    "class EvaluationConfig:\n",
    "    path_of_model: Path\n",
    "    training_data: Path\n",
    "    all_params: dict\n",
    "    mlflow_uri: str\n",
    "    params_image_size: list\n",
    "    params_batch_size: int"
   ]
  },
  {
   "cell_type": "code",
   "execution_count": 10,
   "id": "784a2b3f-c850-481d-9cab-746dbceb87ff",
   "metadata": {},
   "outputs": [],
   "source": [
    "#configuration manager\n",
    "from src.cnnClassifier.constants import *\n",
    "from src.cnnClassifier.utils.common import read_ymal, create_directories, save_json"
   ]
  },
  {
   "cell_type": "code",
   "execution_count": 11,
   "id": "9560ed1b-d2d4-4539-9178-ff388c9ed17e",
   "metadata": {},
   "outputs": [],
   "source": [
    "class ConfigurationManager:\n",
    "    def __init__(self, config_filepath = CONFIG_FILE_PATH, params_filepath=PARAMS_FILE_PATH):\n",
    "        self.config = read_ymal(config_filepath)\n",
    "        self.params = read_ymal(params_filepath)\n",
    "        self.mlflow_details = read_ymal(Path(\"mlflow.yaml\"))\n",
    "        create_directories([self.config.artifact_root])\n",
    "\n",
    "    def get_evaluation_config(self) -> EvaluationConfig:\n",
    "        return EvaluationConfig(\n",
    "            path_of_model= \"artifacts/training/model.h5\",\n",
    "            training_data= \"artifacts/data_ingestion/kidney-ct-scan-dataset\",\n",
    "            all_params= self.params,\n",
    "            mlflow_uri= self.mlflow_details.MLFLOW_TRACKING_URI,\n",
    "            params_image_size= self.params.IMAGE_SIZE,\n",
    "            params_batch_size= self.params.BATCH_SIZE\n",
    "        )"
   ]
  },
  {
   "cell_type": "code",
   "execution_count": 12,
   "id": "dbeaacfd-9aef-462a-bc90-41ab129929b7",
   "metadata": {},
   "outputs": [],
   "source": [
    "#components\n",
    "import tensorflow as tf\n",
    "from pathlib import Path\n",
    "import mlflow\n",
    "import mlflow.keras\n",
    "from urllib.parse import urlparse"
   ]
  },
  {
   "cell_type": "code",
   "execution_count": 15,
   "id": "7735a4ec-cbc3-434b-adb9-cb69a14163ce",
   "metadata": {},
   "outputs": [],
   "source": [
    "class Evaluation:\n",
    "    def __init__(self, config: EvaluationConfig):\n",
    "        self.config = config\n",
    "\n",
    "    def _valid_generator(self):\n",
    "        datagenerator_kwargs = dict(\n",
    "            rescale = 1.0/255,\n",
    "            validation_split = 0.30\n",
    "        )\n",
    "        dataflow_kwargs = dict(\n",
    "            target_size = self.config.params_image_size[:-1],\n",
    "            batch_size = self.config.params_batch_size,\n",
    "            interpolation = 'bilinear'\n",
    "        )\n",
    "\n",
    "        valid_datagenerator = tf.keras.preprocessing.image.ImageDataGenerator(**datagenerator_kwargs)\n",
    "\n",
    "        self.valid_generator = valid_datagenerator.flow_from_directory(\n",
    "            directory=self.config.training_data,\n",
    "            subset='validation',\n",
    "            shuffle=False,\n",
    "            **dataflow_kwargs\n",
    "        )\n",
    "\n",
    "    @staticmethod\n",
    "    def load_model(path: Path) -> tf.keras.Model:\n",
    "        return tf.keras.models.load_model(path)\n",
    "        \n",
    "    def evaluate(self):\n",
    "        self.model = self.load_model(self.config.path_of_model)\n",
    "        self._valid_generator()\n",
    "        self.score = self.model.evaluate(self.valid_generator)\n",
    "        self.save_score()\n",
    "    \n",
    "    def save_score(self):\n",
    "        scores = {\"loss\":self.score[0], \"accuracy\":self.score[1]}\n",
    "        save_json(path=Path('scores.json'),data=scores)\n",
    "\n",
    "    def log_into_mlflow(self):\n",
    "        print(type(self.config.mlflow_uri))\n",
    "        #mlflow.set_registry_uri(self.config.mlflow_uri)\n",
    "        tracking_url_type_store = urlparse(mlflow.get_tracking_uri()).scheme\n",
    "\n",
    "        with mlflow.start_run():\n",
    "            mlflow.log_params(self.config.all_params)\n",
    "            mlflow.log_metrics(\n",
    "                {\"loss\":self.score[0], \"accuracy\":self.score[1]}\n",
    "            )\n",
    "            #Model registery does not work with file store\n",
    "            print(tracking_url_type_store)\n",
    "            if tracking_url_type_store !=\"file\":\n",
    "                mlflow.keras.log_model(self.model, \"model\", registered_model_name=\"VGG16Model\")\n",
    "            else:\n",
    "                mlflow.keras.log_model(self.model, \"model\")\n",
    "            "
   ]
  },
  {
   "cell_type": "code",
   "execution_count": 14,
   "id": "651599a0-5df4-43c5-b745-cfc67b36c9f2",
   "metadata": {},
   "outputs": [
    {
     "name": "stdout",
     "output_type": "stream",
     "text": [
      "[2024-03-18 12:55:08,655: INFO: common: yaml file: config\\config.yaml loaded successfully]\n",
      "[2024-03-18 12:55:08,661: INFO: common: yaml file: params.yaml loaded successfully]\n",
      "[2024-03-18 12:55:08,665: INFO: common: yaml file: mlflow.yaml loaded successfully]\n",
      "[2024-03-18 12:55:08,667: INFO: common: created directory at: artifacts]\n",
      "Found 600 images belonging to 2 classes.\n",
      "38/38 [==============================] - 57s 1s/step - loss: 1.8924 - accuracy: 0.7483\n",
      "[2024-03-18 12:56:05,998: INFO: common: json file saved at scores.json]\n",
      "<class 'str'>\n"
     ]
    },
    {
     "name": "stderr",
     "output_type": "stream",
     "text": [
      "2024/03/18 12:56:06 WARNING mlflow.tensorflow: You are saving a TensorFlow Core model or Keras model without a signature. Inference with mlflow.pyfunc.spark_udf() will not work unless the model's pyfunc representation accepts pandas DataFrames as inference inputs.\n"
     ]
    },
    {
     "name": "stdout",
     "output_type": "stream",
     "text": [
      "file\n",
      "[2024-03-18 12:56:07,695: WARNING: save: Found untraced functions such as _jit_compiled_convolution_op, _jit_compiled_convolution_op, _jit_compiled_convolution_op, _jit_compiled_convolution_op, _jit_compiled_convolution_op while saving (showing 5 of 14). These functions will not be directly callable after loading.]\n",
      "INFO:tensorflow:Assets written to: C:\\Users\\ALQUAM~1\\AppData\\Local\\Temp\\tmpzpuhds_1\\model\\data\\model\\assets\n",
      "[2024-03-18 12:56:08,233: INFO: builder_impl: Assets written to: C:\\Users\\ALQUAM~1\\AppData\\Local\\Temp\\tmpzpuhds_1\\model\\data\\model\\assets]\n",
      "[2024-03-18 12:56:15,555: INFO: dir_util: creating F:\\Study\\Deep_learning_Project\\Kidney-Disease-Classification\\mlruns\\0\\4ba8c292cee64326a8570ed1e401b2bc\\artifacts\\model\\data]\n",
      "[2024-03-18 12:56:15,557: INFO: dir_util: creating F:\\Study\\Deep_learning_Project\\Kidney-Disease-Classification\\mlruns\\0\\4ba8c292cee64326a8570ed1e401b2bc\\artifacts\\model\\data\\model]\n",
      "[2024-03-18 12:56:15,559: INFO: dir_util: creating F:\\Study\\Deep_learning_Project\\Kidney-Disease-Classification\\mlruns\\0\\4ba8c292cee64326a8570ed1e401b2bc\\artifacts\\model\\data\\model\\assets]\n",
      "[2024-03-18 12:56:15,563: INFO: dir_util: creating F:\\Study\\Deep_learning_Project\\Kidney-Disease-Classification\\mlruns\\0\\4ba8c292cee64326a8570ed1e401b2bc\\artifacts\\model\\data\\model\\variables]\n"
     ]
    },
    {
     "name": "stderr",
     "output_type": "stream",
     "text": [
      "C:\\Anaconda\\envs\\kidney\\lib\\site-packages\\_distutils_hack\\__init__.py:33: UserWarning: Setuptools is replacing distutils.\n",
      "  warnings.warn(\"Setuptools is replacing distutils.\")\n"
     ]
    }
   ],
   "source": [
    "#pipeline\n",
    "try:\n",
    "    config = ConfigurationManager()\n",
    "    eval_config = config.get_evaluation_config()\n",
    "    evaluation = Evaluation(eval_config)\n",
    "    evaluation.evaluate()\n",
    "    evaluation.log_into_mlflow()\n",
    "except Exception as e:\n",
    "    raise e"
   ]
  },
  {
   "cell_type": "code",
   "execution_count": null,
   "id": "33f35c40-0155-45a4-9a63-262e822178d2",
   "metadata": {},
   "outputs": [],
   "source": []
  }
 ],
 "metadata": {
  "kernelspec": {
   "display_name": "Python 3 (ipykernel)",
   "language": "python",
   "name": "python3"
  },
  "language_info": {
   "codemirror_mode": {
    "name": "ipython",
    "version": 3
   },
   "file_extension": ".py",
   "mimetype": "text/x-python",
   "name": "python",
   "nbconvert_exporter": "python",
   "pygments_lexer": "ipython3",
   "version": "3.8.18"
  }
 },
 "nbformat": 4,
 "nbformat_minor": 5
}
