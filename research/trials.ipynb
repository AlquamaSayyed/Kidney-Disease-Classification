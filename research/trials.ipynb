{
 "cells": [
  {
   "cell_type": "code",
   "execution_count": 2,
   "id": "b64c6468-0642-4b3f-9a2b-31cba5f616a0",
   "metadata": {},
   "outputs": [],
   "source": [
    "d = {'key':'value','key1':'value1'}"
   ]
  },
  {
   "cell_type": "code",
   "execution_count": 3,
   "id": "fd814cfe-7ae5-4d0e-babe-41c9d847a58c",
   "metadata": {},
   "outputs": [
    {
     "data": {
      "text/plain": [
       "'value'"
      ]
     },
     "execution_count": 3,
     "metadata": {},
     "output_type": "execute_result"
    }
   ],
   "source": [
    "d['key']"
   ]
  },
  {
   "cell_type": "code",
   "execution_count": 4,
   "id": "42635a87-058d-446e-a1ed-db50c11c4828",
   "metadata": {},
   "outputs": [],
   "source": [
    "from box import ConfigBox"
   ]
  },
  {
   "cell_type": "code",
   "execution_count": 5,
   "id": "060c049e-71bf-4a7a-ab18-02ba587effcb",
   "metadata": {},
   "outputs": [],
   "source": [
    "d2 = ConfigBox(d)"
   ]
  },
  {
   "cell_type": "code",
   "execution_count": 7,
   "id": "17db4d14-5d66-45c3-be72-26ea617a6179",
   "metadata": {},
   "outputs": [
    {
     "data": {
      "text/plain": [
       "'value'"
      ]
     },
     "execution_count": 7,
     "metadata": {},
     "output_type": "execute_result"
    }
   ],
   "source": [
    "d2.key"
   ]
  },
  {
   "cell_type": "code",
   "execution_count": 8,
   "id": "ca7f4902-60b2-4dcd-bc07-02bf5e78a56d",
   "metadata": {},
   "outputs": [
    {
     "ename": "AttributeError",
     "evalue": "'dict' object has no attribute 'key'",
     "output_type": "error",
     "traceback": [
      "\u001b[1;31m---------------------------------------------------------------------------\u001b[0m",
      "\u001b[1;31mAttributeError\u001b[0m                            Traceback (most recent call last)",
      "Cell \u001b[1;32mIn[8], line 1\u001b[0m\n\u001b[1;32m----> 1\u001b[0m \u001b[43md\u001b[49m\u001b[38;5;241;43m.\u001b[39;49m\u001b[43mkey\u001b[49m\n",
      "\u001b[1;31mAttributeError\u001b[0m: 'dict' object has no attribute 'key'"
     ]
    }
   ],
   "source": [
    "d.key"
   ]
  },
  {
   "cell_type": "code",
   "execution_count": 9,
   "id": "22a5b0d6-31f8-4291-b970-99bd4479b546",
   "metadata": {},
   "outputs": [
    {
     "data": {
      "text/plain": [
       "(box.config_box.ConfigBox, dict)"
      ]
     },
     "execution_count": 9,
     "metadata": {},
     "output_type": "execute_result"
    }
   ],
   "source": [
    "type(d2), type(d)"
   ]
  },
  {
   "cell_type": "code",
   "execution_count": 10,
   "id": "b6f8a834-faef-4ec8-aee4-e237cf5eac98",
   "metadata": {},
   "outputs": [],
   "source": [
    "# ensure_annotations\n",
    "def get_product(x:int,y:int)->int:\n",
    "    return x*y"
   ]
  },
  {
   "cell_type": "code",
   "execution_count": null,
   "id": "744a0992-ce78-45a2-a00f-da3761868553",
   "metadata": {},
   "outputs": [],
   "source": [
    "get_"
   ]
  }
 ],
 "metadata": {
  "kernelspec": {
   "display_name": "Python 3 (ipykernel)",
   "language": "python",
   "name": "python3"
  },
  "language_info": {
   "codemirror_mode": {
    "name": "ipython",
    "version": 3
   },
   "file_extension": ".py",
   "mimetype": "text/x-python",
   "name": "python",
   "nbconvert_exporter": "python",
   "pygments_lexer": "ipython3",
   "version": "3.8.18"
  }
 },
 "nbformat": 4,
 "nbformat_minor": 5
}
